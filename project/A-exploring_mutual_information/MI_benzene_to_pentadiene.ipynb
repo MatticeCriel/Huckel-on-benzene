{
 "cells": [
  {
   "cell_type": "markdown",
   "metadata": {},
   "source": [
    "# Try to find which molecular orbitals are used in calculating MI\n"
   ]
  },
  {
   "cell_type": "code",
   "execution_count": 6,
   "metadata": {},
   "outputs": [],
   "source": [
    "import numpy as np\n",
    "from sympy import symbols, Matrix, simplify\n",
    "import matplotlib.pyplot as plt\n",
    "from scipy.linalg import fractional_matrix_power\n",
    "from scipy.optimize import brentq\n",
    "import matplotlib.ticker as ticker\n",
    "import sys\n",
    "sys.path.append('/workspaces/bachelor-project-bridging-profile-Mattice-Criel/projects/Project-MatticeCriel/Benzene/rhf')\n",
    "import plottingsystem as pts\n",
    "import sys\n",
    "sys.path.append('/workspaces/bachelor-project-bridging-profile-Mattice-Criel/projects/Project-MatticeCriel/Benzene/Huckel')\n",
    "from class_huckel import huckel"
   ]
  },
  {
   "cell_type": "code",
   "execution_count": 25,
   "metadata": {},
   "outputs": [
    {
     "name": "stdout",
     "output_type": "stream",
     "text": [
      "[[ 1.2116068  0.6995215]\n",
      " [ 1.2116068 -0.6995215]\n",
      " [-0.        -1.399043 ]\n",
      " [-1.2116068 -0.6995215]\n",
      " [-1.2116068  0.6995215]\n",
      " [ 0.         1.399043 ]]\n",
      "[[ 0.         1.399043 ]\n",
      " [ 1.2116068  0.6995215]\n",
      " [ 1.2116068 -0.6995215]\n",
      " [-0.        -1.399043 ]\n",
      " [-1.2116068 -0.6995215]\n",
      " [-1.2116068  0.6995215]]\n"
     ]
    }
   ],
   "source": [
    "benzene_molecule = '''\n",
    "  C    1.2116068    0.6995215    0.0000000\n",
    "  C    1.2116068   -0.6995215    0.0000000\n",
    "  C   -0.0000000   -1.3990430   -0.0000000\n",
    "  C   -1.2116068   -0.6995215   -0.0000000\n",
    "  C   -1.2116068    0.6995215   -0.0000000\n",
    "  C    0.0000000    1.3990430    0.0000000\n",
    "  H    2.1489398    1.2406910    0.0000000\n",
    "  H    2.1489398   -1.2406910    0.0000000\n",
    "  H   -0.0000000   -2.4813820   -0.0000000\n",
    "  H   -2.1489398   -1.2406910   -0.0000000\n",
    "  H   -2.1489398    1.2406910   -0.0000000\n",
    "  H    0.0000000    2.4813820    0.0000000\n",
    "'''\n",
    "extra_bounds = [(0,5)]\n",
    "coordinates = pts.taking_x_and_y_coordinate(pts.taking_carbon_coordinates(benzene_molecule))\n",
    "print(coordinates)\n",
    "coordinates = np.vstack((coordinates[-1], coordinates[[0, 1, 2, 3, 4]]))\n",
    "print(coordinates)"
   ]
  },
  {
   "cell_type": "code",
   "execution_count": 4,
   "metadata": {},
   "outputs": [
    {
     "name": "stdout",
     "output_type": "stream",
     "text": [
      "[[ 0. -3.  0.  0.  0. -3.]\n",
      " [-3.  0. -3.  0.  0.  0.]\n",
      " [ 0. -3.  0. -3.  0.  0.]\n",
      " [ 0.  0. -3.  0. -3.  0.]\n",
      " [ 0.  0.  0. -3.  0. -3.]\n",
      " [-3.  0.  0.  0. -3.  0.]]\n"
     ]
    }
   ],
   "source": [
    "benzene = huckel(6, 0, -3)\n",
    "benzene.create_matrix()\n",
    "\n",
    "H = benzene.huckel_matrix\n",
    "print(H)"
   ]
  },
  {
   "cell_type": "code",
   "execution_count": 5,
   "metadata": {},
   "outputs": [
    {
     "name": "stdout",
     "output_type": "stream",
     "text": [
      "[[1. 0. 0. 0. 0. 0.]\n",
      " [0. 0. 0. 0. 0. 0.]\n",
      " [0. 0. 0. 0. 0. 0.]\n",
      " [0. 0. 0. 0. 0. 0.]\n",
      " [0. 0. 0. 0. 0. 0.]\n",
      " [0. 0. 0. 0. 0. 0.]]\n"
     ]
    }
   ],
   "source": [
    "one_electron_operator_1 = np.zeros((6, 6))\n",
    "one_electron_operator_1[0,0] = 1\n",
    "print(one_electron_operator_1)"
   ]
  },
  {
   "cell_type": "code",
   "execution_count": 8,
   "metadata": {},
   "outputs": [
    {
     "name": "stdout",
     "output_type": "stream",
     "text": [
      "Optimale waarde van mu: -53.927335145918754\n"
     ]
    }
   ],
   "source": [
    "def bereken_elektronenpopulatie(mu_alfa):\n",
    "    # Hier voer je de berekeningen uit om de elektronenpopulatie op de gewenste site te bepalen\n",
    "    # Veronderstel dat benzene, H, one_electron_operator, pts, enz. eerder zijn gedefinieerd\n",
    "    benzene.huckel_matrix = H + mu_alfa * one_electron_operator_1\n",
    "    benzene.solve_huckel_matrix()\n",
    "    eigenvectors = benzene.eigenvectors\n",
    "    D_huckel = pts.making_D(eigenvectors, 6)\n",
    "    return np.diag(D_huckel)[0]  # Hier krijgen we bijvoorbeeld de elektronenpopulatie op de zesde site\n",
    "\n",
    "def doel_populatie(mu_alfa, gewenste_populatie):\n",
    "    # Deze functie geeft het verschil tussen de berekende populatie en de gewenste populatie terug\n",
    "    berekende_populatie = bereken_elektronenpopulatie(mu_alfa)\n",
    "    verschil = berekende_populatie**2 - gewenste_populatie**2\n",
    "    return verschil\n",
    "\n",
    "def vind_optimale_mu( gewenste_populatie, mu_lower, mu_upper):\n",
    "    # Bepaal de optimale waarde van mu binnen de opgegeven grenzen\n",
    "    \n",
    "    # Pas Brent's methode toe om de optimale waarde van mu te vinden\n",
    "    optimale_mu = brentq(lambda mu_alfa: doel_populatie(mu_alfa, gewenste_populatie), mu_lower, mu_upper)\n",
    "    \n",
    "    return optimale_mu\n",
    "\n",
    "# Voorbeeldgebruik:\n",
    "gewenste_populatie = 1.99\n",
    "mu_lower = -100.0  # Ondergrens voor mu\n",
    "mu_upper = 100.0  # Bovengrens voor mu\n",
    "\n",
    "optimale_mu = vind_optimale_mu(gewenste_populatie, mu_lower, mu_upper)\n",
    "print(\"Optimale waarde van mu:\", optimale_mu)"
   ]
  },
  {
   "cell_type": "code",
   "execution_count": 11,
   "metadata": {},
   "outputs": [
    {
     "name": "stdout",
     "output_type": "stream",
     "text": [
      "[0.005 1.    1.995]\n"
     ]
    }
   ],
   "source": [
    "electronpopulation_1 = np.linspace(0.005, 1.995, 3)\n",
    "print(electronpopulation_1)"
   ]
  },
  {
   "cell_type": "code",
   "execution_count": 33,
   "metadata": {},
   "outputs": [
    {
     "name": "stdout",
     "output_type": "stream",
     "text": [
      "[76.71190697600056, -3.1675246008161637e-06, -76.71190697600066]\n",
      "[[0.03495106752068627, 1.2669549058751683, 1.3862820128984774, 1.283340375577896, 1.3862820128984774, 1.2669549058751683], [1.3862943611158904, 1.3862943611198906, 1.3862943611198906, 1.3862943611158904, 1.3862943611198906, 1.3862943611198906], [0.03496304504257068, 1.2669563311756367, 1.3862820269505352, 1.2833390575353212, 1.3862820269505352, 1.2669563311756367]]\n",
      "[0.005000079864583133, 0.9999999999999998, 1.994999920135417]\n",
      "[[1.279549983280569, 1.4187144453983673, 1.314562616735744, 1.4187144453983673, 1.279549983280569, 1.1247022870670202, 2.305373414180515, 2.5509272283007727, 2.2590616911730845, 1.9000196414404, 2.7725393290491653, 2.5509272283007727, 1.9000196414404, 2.305373414180515, 1.1247022870670202], [1.8022469813808355, 2.7725887222357812, 2.5460571352748715, 2.7725887222357812, 1.8022469813808355, 1.8022469813808355, 2.7725887222357812, 2.5460557489820106, 2.7725887222357812, 1.8022469813808355, 2.7725887222357812, 2.5460557489820106, 1.8022469813808355, 2.7725887222357812, 1.8022469813808355], [1.279563940995763, 1.4187144453983678, 1.3145735100135902, 1.4187144453983678, 1.279563940995763, 1.12470228706702, 2.305373414180515, 2.550927673736945, 2.259065037129654, 1.9000175501887147, 2.772539357157628, 2.550927673736945, 1.9000175501887147, 2.305373414180515, 1.12470228706702]]\n",
      "[-17.163551661444476, -24.0000008324754, -17.163553709443157]\n",
      "[[0.005000079864583133, 0.9999999999999998, 1.994999920135417], [1.3419725824106492, 0.9999999999999999, 0.6580274175893508], [0.9964868513909397, 0.9999999999999999, 1.0035131486090598], [1.3180815067151048, 0.9999999999999998, 0.6819184932848946], [0.9964868513909397, 0.9999999999999999, 1.0035131486090598], [1.3419725824106492, 0.9999999999999999, 0.6580274175893508]]\n"
     ]
    }
   ],
   "source": [
    "electron_population = [[],[],[],[],[],[]]\n",
    "S_1_atom = []\n",
    "S_2_atoms = []\n",
    "energies = []\n",
    "potentials = [vind_optimale_mu(gewenste_populatie, mu_lower, mu_upper) for gewenste_populatie in electronpopulation_1]\n",
    "print(potentials)\n",
    "\n",
    "for potential in potentials:\n",
    "    benzene.huckel_matrix = H + potential* one_electron_operator_1\n",
    "    benzene.solve_huckel_matrix()\n",
    "\n",
    "    eigenvalues = benzene.eigenvalues \n",
    "    eigenvectors = benzene.eigenvectors\n",
    "    #pts.plot_MOs(eigenvalues, eigenvectors, coordinates, extra_bounds, fig_size = (5,7), unit='Ha')\n",
    "    D_huckel = pts.making_D(eigenvectors, 6)\n",
    "    for index, density in enumerate(np.diag(D_huckel)):\n",
    "        electron_population[index].append(density)\n",
    "\n",
    "    elec_to_place = 6\n",
    "    i = 0\n",
    "    energy = 0\n",
    "    while elec_to_place >0:\n",
    "        if elec_to_place > 1:\n",
    "            elec_in_orbital = 2\n",
    "        elif elec_to_place == 1:\n",
    "            elec_in_orbital = 1\n",
    "        else:\n",
    "            elec_in_orbital = 0\n",
    "\n",
    "        energy += elec_in_orbital*(eigenvalues[i]-potential*(eigenvectors.T[i] @ one_electron_operator_1 @ eigenvectors.T[i].T))\n",
    "        elec_to_place -= elec_in_orbital\n",
    "        i+=1\n",
    "    energies.append(energy)\n",
    "\n",
    "    occ_orbitals = eigenvectors.T[:3].round(6)\n",
    "    S_ohm_1_atom= []\n",
    "    S_ohm_2_atoms = []\n",
    "    for i in range(6):\n",
    "        atom_i = np.zeros((6,6))\n",
    "        atom_i[i][i] = 1\n",
    "        eigvals_i = np.linalg.eigvalsh(occ_orbitals @ atom_i @ occ_orbitals.T).round(6)\n",
    "        S_ohm_i = 0\n",
    "        for eigenvalue in eigvals_i:\n",
    "            if (eigenvalue != 0): \n",
    "                S_ohm_i -= (eigenvalue*np.log(eigenvalue) + (1-eigenvalue)*np.log(1-eigenvalue))\n",
    "        S_ohm_1_atom.append(2*S_ohm_i)\n",
    "        for j in range(i+1,6):\n",
    "            atom_j = np.zeros((6,6))\n",
    "            atom_j[j][j] = 1    \n",
    "            atom_i_j = atom_i + atom_j\n",
    "            eigvals_i_j = np.linalg.eigvalsh(occ_orbitals @ atom_i_j @ occ_orbitals.T).round(6)\n",
    "            S_ohm_i_j = 0\n",
    "            for eigenvalue in eigvals_i_j:\n",
    "                if (eigenvalue != 0): \n",
    "                    S_ohm_i_j -= (eigenvalue*np.log(eigenvalue) + (1-eigenvalue)*np.log(1-eigenvalue))\n",
    "            S_ohm_2_atoms.append(2*S_ohm_i_j)\n",
    "    S_1_atom.append(S_ohm_1_atom)\n",
    "    S_2_atoms.append(S_ohm_2_atoms)\n",
    "print(S_1_atom)\n",
    "print(electron_population[0])\n",
    "print(S_2_atoms)\n",
    "print(energies)\n",
    "print(electron_population)"
   ]
  },
  {
   "cell_type": "code",
   "execution_count": null,
   "metadata": {},
   "outputs": [],
   "source": [
    "electron_population= []\n",
    "S_1_atom = []\n",
    "S_2_atoms = []\n",
    "energies = []\n",
    "potentials = [vind_optimale_mu(gewenste_populatie, mu_lower, mu_upper) for gewenste_populatie in electronpopulation_1]\n",
    "for potential in potentials:\n",
    "    benzene.huckel_matrix = H + potential* one_electron_operator_1\n",
    "    benzene.solve_huckel_matrix()\n",
    "\n",
    "    eigenvalues = benzene.eigenvalues\n",
    "    eigenvectors = benzene.eigenvectors\n",
    "\n",
    "    D_huckel = pts.making_D(eigenvectors, 6)\n",
    "    electron_population.append(np.diag(D_huckel))\n",
    "\n",
    "        \n",
    "\n",
    "        \n",
    "        S_ohm_1_atom= []\n",
    "        S_ohm_2_atoms = []\n",
    "        for i in range(6):\n",
    "            atom_i = np.zeros((6,6))\n",
    "            atom_i[i][i] = 1\n",
    "            eigvals_i = np.linalg.eigvalsh(occ_orbitals @ atom_i @ occ_orbitals.T).round(6)\n",
    "            S_ohm_i = 0\n",
    "            for eigenvalue in eigvals_i:\n",
    "                if (eigenvalue != 0): \n",
    "                    S_ohm_i -= (eigenvalue*np.log(eigenvalue) + (1-eigenvalue)*np.log(1-eigenvalue))\n",
    "            S_ohm_1_atom.append(2*S_ohm_i)\n",
    "            for j in range(i+1,6):\n",
    "                atom_j = np.zeros((6,6))\n",
    "                atom_j[j][j] = 1    \n",
    "                atom_i_j = atom_i + atom_j\n",
    "                eigvals_i_j = np.linalg.eigvalsh(occ_orbitals @ atom_i_j @ occ_orbitals.T).round(6)\n",
    "                S_ohm_i_j = 0\n",
    "                for eigenvalue in eigvals_i_j:\n",
    "                    if (eigenvalue != 0): \n",
    "                        S_ohm_i_j -= (eigenvalue*np.log(eigenvalue) + (1-eigenvalue)*np.log(1-eigenvalue))\n",
    "                S_ohm_2_atoms.append(2*S_ohm_i_j)\n",
    "        S_1_atom.append(S_ohm_1_atom)\n",
    "        S_2_atoms.append(S_ohm_2_atoms)\n",
    "    electron_population_betas.append(electron_population)\n",
    "    S_1_atom_betas.append(S_1_atom)\n",
    "    S_2_atoms_betas.append(S_2_atoms)\n",
    "    energies_betas.append(energies)\n"
   ]
  }
 ],
 "metadata": {
  "kernelspec": {
   "display_name": "Python 3",
   "language": "python",
   "name": "python3"
  },
  "language_info": {
   "codemirror_mode": {
    "name": "ipython",
    "version": 3
   },
   "file_extension": ".py",
   "mimetype": "text/x-python",
   "name": "python",
   "nbconvert_exporter": "python",
   "pygments_lexer": "ipython3",
   "version": "3.8.10"
  }
 },
 "nbformat": 4,
 "nbformat_minor": 2
}
