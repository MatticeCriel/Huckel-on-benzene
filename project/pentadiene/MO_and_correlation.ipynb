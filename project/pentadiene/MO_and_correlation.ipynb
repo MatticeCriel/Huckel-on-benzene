{
 "cells": [
  {
   "cell_type": "markdown",
   "metadata": {},
   "source": [
    "In this notebook i will calculate the molecular orbitals of pentadiene. This to show why we can expect the correlation patterns we see in benzene. We also calculate the entangelment patterns. "
   ]
  },
  {
   "cell_type": "code",
   "execution_count": 8,
   "metadata": {},
   "outputs": [],
   "source": [
    "import numpy as np\n",
    "from sympy import symbols, Matrix, simplify\n",
    "import matplotlib.pyplot as plt\n",
    "from pyscf import gto, scf\n",
    "from scipy.linalg import fractional_matrix_power\n",
    "import sys\n",
    "sys.path.append('/workspaces/Huckel-on-benzene/project/Benzene/rhf')\n",
    "import plottingsystem as pts\n",
    "import sys\n",
    "sys.path.append('/workspaces/Huckel-on-benzene/project/Benzene/Huckel')\n",
    "from class_huckel import huckel"
   ]
  },
  {
   "cell_type": "code",
   "execution_count": 9,
   "metadata": {},
   "outputs": [
    {
     "name": "stdout",
     "output_type": "stream",
     "text": [
      "[[ 1.2116068  0.6995215]\n",
      " [ 1.2116068 -0.6995215]\n",
      " [-0.        -1.399043 ]\n",
      " [-1.2116068 -0.6995215]\n",
      " [-1.2116068  0.6995215]\n",
      " [ 0.         1.399043 ]]\n"
     ]
    }
   ],
   "source": [
    "benzene_molecule = '''\n",
    "  C    1.2116068    0.6995215    0.0000000\n",
    "  C    1.2116068   -0.6995215    0.0000000\n",
    "  C   -0.0000000   -1.3990430   -0.0000000\n",
    "  C   -1.2116068   -0.6995215   -0.0000000\n",
    "  C   -1.2116068    0.6995215   -0.0000000\n",
    "  C    0.0000000    1.3990430    0.0000000\n",
    "  H    2.1489398    1.2406910    0.0000000\n",
    "  H    2.1489398   -1.2406910    0.0000000\n",
    "  H   -0.0000000   -2.4813820   -0.0000000\n",
    "  H   -2.1489398   -1.2406910   -0.0000000\n",
    "  H   -2.1489398    1.2406910   -0.0000000\n",
    "  H    0.0000000    2.4813820    0.0000000\n",
    "'''\n",
    "extra_bounds = [(0,5)]\n",
    "coordinates = pts.taking_x_and_y_coordinate(pts.taking_carbon_coordinates(benzene_molecule))\n",
    "print(coordinates)\n"
   ]
  },
  {
   "cell_type": "code",
   "execution_count": 10,
   "metadata": {},
   "outputs": [
    {
     "name": "stdout",
     "output_type": "stream",
     "text": [
      "[[ 0. -3.  0.  0.  0.]\n",
      " [-3.  0. -3.  0.  0.]\n",
      " [ 0. -3.  0. -3.  0.]\n",
      " [ 0.  0. -3.  0. -3.]\n",
      " [ 0.  0.  0. -3.  0.]]\n"
     ]
    }
   ],
   "source": [
    "pentabutadiene = huckel(5, 0, -3)\n",
    "pentabutadiene.create_matrix()\n",
    "H = pentabutadiene.huckel_matrix\n",
    "H[0,4] = 0\n",
    "H[4,0] = 0\n",
    "print(H)"
   ]
  },
  {
   "cell_type": "code",
   "execution_count": 15,
   "metadata": {},
   "outputs": [
    {
     "name": "stdout",
     "output_type": "stream",
     "text": [
      "[-5.196152 -3.       -0.        3.        5.196152]\n",
      "[[ 0.288675  0.5       0.57735   0.5       0.288675]\n",
      " [-0.5      -0.5      -0.        0.5       0.5     ]\n",
      " [-0.57735  -0.        0.57735  -0.       -0.57735 ]\n",
      " [-0.5       0.5      -0.       -0.5       0.5     ]\n",
      " [ 0.288675 -0.5       0.57735  -0.5       0.288675]]\n"
     ]
    }
   ],
   "source": [
    "pentabutadiene.solve_huckel_matrix()\n",
    "eigenvectors = pentabutadiene.eigenvectors.T\n",
    "eigenvalues = pentabutadiene.eigenvalues\n",
    "\n",
    "print(eigenvalues)\n",
    "print(eigenvectors.round(6))"
   ]
  }
 ],
 "metadata": {
  "kernelspec": {
   "display_name": "Python 3",
   "language": "python",
   "name": "python3"
  },
  "language_info": {
   "codemirror_mode": {
    "name": "ipython",
    "version": 3
   },
   "file_extension": ".py",
   "mimetype": "text/x-python",
   "name": "python",
   "nbconvert_exporter": "python",
   "pygments_lexer": "ipython3",
   "version": "3.8.10"
  }
 },
 "nbformat": 4,
 "nbformat_minor": 2
}
