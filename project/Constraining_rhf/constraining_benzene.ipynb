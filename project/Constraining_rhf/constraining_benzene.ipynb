{
 "cells": [
  {
   "cell_type": "markdown",
   "metadata": {},
   "source": [
    "# Constraining population in benzene in RHF"
   ]
  },
  {
   "cell_type": "markdown",
   "metadata": {},
   "source": [
    "In this notebook I will try to constrain the electronpopulation on 1 carbon atom like I did in the Hückel model. This time I will use RHF for this proces. Because I am intrested in behaviors of $\\pi$-systems I will start with Benzene. "
   ]
  },
  {
   "cell_type": "code",
   "execution_count": null,
   "metadata": {},
   "outputs": [],
   "source": [
    "import numpy as np\n",
    "from sympy import symbols, Matrix, simplify\n",
    "import matplotlib.pyplot as plt\n",
    "from pyscf import gto, scf, ao2mo\n",
    "import sys\n",
    "sys.path.append('/workspaces/Huckel-on-benzene/project/Benzene/rhf')\n",
    "import plottingsystem as pts\n",
    "benzene_molecule = '''\n",
    "  C    1.2116068    0.6995215    0.0000000\n",
    "  C    1.2116068   -0.6995215    0.0000000\n",
    "  C   -0.0000000   -1.3990430   -0.0000000\n",
    "  C   -1.2116068   -0.6995215   -0.0000000\n",
    "  C   -1.2116068    0.6995215   -0.0000000\n",
    "  C    0.0000000    1.3990430    0.0000000\n",
    "  H    2.1489398    1.2406910    0.0000000\n",
    "  H    2.1489398   -1.2406910    0.0000000\n",
    "  H   -0.0000000   -2.4813820   -0.0000000\n",
    "  H   -2.1489398   -1.2406910   -0.0000000\n",
    "  H   -2.1489398    1.2406910   -0.0000000\n",
    "  H    0.0000000    2.4813820    0.0000000\n",
    "'''\n",
    "\n",
    "extra_bound = [(0,5)]\n",
    "carbon_coordinates = pts.taking_carbon_coordinates(benzene_molecule)\n",
    "print(carbon_coordinates)\n",
    "benzene_molecule_with_H = gto.M(atom=benzene_molecule, basis='sto-3g')#'sto-6g''ccpvdz'\n",
    "\n",
    "pz_indices = [i for i, label in enumerate(benzene_molecule_with_H.ao_labels()) if 'C 2pz' in label]\n",
    "print(pz_indices)\n",
    "hf = scf.RHF(benzene_molecule_with_H)\n",
    "hf_energy = hf.kernel()\n",
    "\n",
    "# Extract integrals\n",
    "H_core = hf.get_hcore()\n",
    "S = hf.get_ovlp()\n",
    "eri = ao2mo.restore(1, hf._eri, benzene_molecule_with_H.nao_nr())\n"
   ]
  },
  {
   "cell_type": "code",
   "execution_count": null,
   "metadata": {},
   "outputs": [],
   "source": [
    "\n",
    "def build_fock_matrix(H_core, P, eri):\n",
    "    F = H_core.copy()\n",
    "    for p in range(H_core.shape[0]):\n",
    "        for q in range(H_core.shape[1]):\n",
    "            F[p, q] += np.sum(P * (eri[p, q] - 0.5 * eri[p,:,q,:]))\n",
    "    return F"
   ]
  },
  {
   "cell_type": "code",
   "execution_count": null,
   "metadata": {},
   "outputs": [],
   "source": [
    "def apply_lagrange_multipliers(F, constraints, lambdas):\n",
    "    for mu in range(len(constraints)):\n",
    "        C_mu = constraints[mu]\n",
    "        F += lambdas[mu] * np.outer(C_mu, C_mu)\n",
    "    return F"
   ]
  },
  {
   "cell_type": "code",
   "execution_count": null,
   "metadata": {},
   "outputs": [],
   "source": [
    "def scf_cycle(H_core, S, eri, constraints, lambdas, target_pop, max_iter=100, tol=1e-6):\n",
    "    # Initialisatie\n",
    "    P = np.zeros_like(H_core)\n",
    "    energy_old = 0.0\n",
    "\n",
    "    for iteration in range(max_iter):\n",
    "        # Bouw de Fock matrix\n",
    "        F = build_fock_matrix(H_core, P, eri)\n",
    "\n",
    "        # Pas Lagrange multipliers toe\n",
    "        F = apply_lagrange_multipliers(F, constraints, lambdas)\n",
    "\n",
    "        # Diagonaliseer de Fock matrix\n",
    "        eigvals, C = np.linalg.eigh(F)\n",
    "\n",
    "        # Bereken de nieuwe dichtheidsmatrix\n",
    "        P_new = np.zeros_like(P)\n",
    "        for i in range(len(eigvals)//2):  # Voor RHF nemen we de helft van de orbitalen\n",
    "            P_new += 2 * np.outer(C[:, i], C[:, i])\n",
    "\n",
    "        # Bereken de elektronische energie\n",
    "        energy_new = np.sum(P_new * (H_core + F)) / 2\n",
    "\n",
    "        # Controleer de elektronenpopulatie op de specifieke koolstof\n",
    "        current_pop = np.sum(P_new * constraints[0])\n",
    "        lambda_adjustment = lambdas[0] + (target_pop - current_pop)\n",
    "        lambdas[0] = lambda_adjustment\n",
    "\n",
    "        # Controleer de convergentie\n",
    "        if np.abs(energy_new - energy_old) < tol and np.abs(target_pop - current_pop) < tol:\n",
    "            print(f\"SCF converged in {iteration+1} iterations.\")\n",
    "            break\n",
    "\n",
    "        # Update de dichtheidsmatrix en energie\n",
    "        P = P_new\n",
    "        energy_old = energy_new\n",
    "\n",
    "    # Energiecorrectie voor de Lagrange multipliers\n",
    "    correction = sum(l * np.sum(P_new * C) for l, C in zip(lambdas, constraints))/2\n",
    "    corrected_energy = energy_new - correction\n",
    "\n",
    "    return corrected_energy, C, eigvals, lambdas"
   ]
  },
  {
   "cell_type": "code",
   "execution_count": null,
   "metadata": {},
   "outputs": [],
   "source": [
    "constraints = [np.zeros(H_core.shape[0])]\n",
    "constraints[0][0] = 1.0 \n",
    "lambdas = [0.1]\n",
    "target_pop = 1\n",
    "\n",
    "\n",
    "energy, C, eigvals, lambdas = scf_cycle(H_core, S, eri, constraints, lambdas, target_pop)\n",
    "print(\"Gecorrigeerde Energie:\", energy)\n",
    "print(\"Moleculaire orbitalen coefficients:\\n\", C)\n",
    "print(\"Orbitalen energieën:\\n\", eigvals)\n",
    "print(\"Lagrange multipliers:\\n\", lambdas)\n"
   ]
  },
  {
   "cell_type": "code",
   "execution_count": null,
   "metadata": {},
   "outputs": [],
   "source": [
    "pops = np.linspace(0.1, 1.9, 19)\n",
    "print(pops)\n",
    "for pop in pops:\n",
    "    energy, C, eigvals, lambdas = scf_cycle(H_core, S, eri, constraints, lambdas, pop)\n",
    "    print(energy)"
   ]
  }
 ],
 "metadata": {
  "language_info": {
   "name": "python"
  }
 },
 "nbformat": 4,
 "nbformat_minor": 2
}
