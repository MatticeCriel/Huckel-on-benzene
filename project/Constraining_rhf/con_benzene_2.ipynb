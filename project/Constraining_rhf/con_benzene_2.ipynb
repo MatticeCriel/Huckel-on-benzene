{
 "cells": [
  {
   "cell_type": "code",
   "execution_count": 86,
   "metadata": {},
   "outputs": [],
   "source": [
    "from pyscf import gto, scf\n",
    "import numpy as np\n",
    "import scipy as sp\n",
    "import sys\n",
    "sys.path.append('/workspaces/Huckel-on-benzene/project/Benzene/rhf')\n",
    "import plottingsystem as pts"
   ]
  },
  {
   "cell_type": "code",
   "execution_count": 87,
   "metadata": {},
   "outputs": [
    {
     "name": "stdout",
     "output_type": "stream",
     "text": [
      "[[ 1.2116068  0.6995215  0.       ]\n",
      " [ 1.2116068 -0.6995215  0.       ]\n",
      " [-0.        -1.399043  -0.       ]\n",
      " [-1.2116068 -0.6995215 -0.       ]\n",
      " [-1.2116068  0.6995215 -0.       ]\n",
      " [ 0.         1.399043   0.       ]]\n"
     ]
    }
   ],
   "source": [
    "benzene_molecule = '''\n",
    "  C    1.2116068    0.6995215    0.0000000\n",
    "  C    1.2116068   -0.6995215    0.0000000\n",
    "  C   -0.0000000   -1.3990430   -0.0000000\n",
    "  C   -1.2116068   -0.6995215   -0.0000000\n",
    "  C   -1.2116068    0.6995215   -0.0000000\n",
    "  C    0.0000000    1.3990430    0.0000000\n",
    "  H    2.1489398    1.2406910    0.0000000\n",
    "  H    2.1489398   -1.2406910    0.0000000\n",
    "  H   -0.0000000   -2.4813820   -0.0000000\n",
    "  H   -2.1489398   -1.2406910   -0.0000000\n",
    "  H   -2.1489398    1.2406910   -0.0000000\n",
    "  H    0.0000000    2.4813820    0.0000000\n",
    "'''\n",
    "extra_bound = [(0,5)]\n",
    "carbon_coordinates = pts.taking_carbon_coordinates(benzene_molecule)\n",
    "print(carbon_coordinates)\n"
   ]
  },
  {
   "cell_type": "code",
   "execution_count": 88,
   "metadata": {},
   "outputs": [
    {
     "name": "stdout",
     "output_type": "stream",
     "text": [
      "36\n",
      "['0 C 1s    ', '0 C 2s    ', '0 C 2px   ', '0 C 2py   ', '0 C 2pz   ', '1 C 1s    ', '1 C 2s    ', '1 C 2px   ', '1 C 2py   ', '1 C 2pz   ', '2 C 1s    ', '2 C 2s    ', '2 C 2px   ', '2 C 2py   ', '2 C 2pz   ', '3 C 1s    ', '3 C 2s    ', '3 C 2px   ', '3 C 2py   ', '3 C 2pz   ', '4 C 1s    ', '4 C 2s    ', '4 C 2px   ', '4 C 2py   ', '4 C 2pz   ', '5 C 1s    ', '5 C 2s    ', '5 C 2px   ', '5 C 2py   ', '5 C 2pz   ', '6 H 1s    ', '7 H 1s    ', '8 H 1s    ', '9 H 1s    ', '10 H 1s    ', '11 H 1s    ']\n",
      "[4, 9, 14, 19, 24, 29]\n"
     ]
    }
   ],
   "source": [
    "mol = gto.M(atom = benzene_molecule, basis ='sto-3g' )\n",
    "print(len(mol.ao_labels()))\n",
    "print(mol.ao_labels())\n",
    "pz_indices = [i for i, label in enumerate(mol.ao_labels()) if 'C 2pz' in label]\n",
    "print(pz_indices)\n"
   ]
  },
  {
   "cell_type": "code",
   "execution_count": 89,
   "metadata": {},
   "outputs": [],
   "source": [
    "MAXITER = 2000\n",
    "E_conv = 1.0e-6"
   ]
  },
  {
   "cell_type": "code",
   "execution_count": 90,
   "metadata": {},
   "outputs": [],
   "source": [
    "S = mol.intor('int1e_ovlp')\n",
    "T = mol.intor('int1e_kin')\n",
    "V = mol.intor('int1e_nuc')\n",
    "H_core = T + V\n",
    "eri = mol.intor('int2e')\n"
   ]
  },
  {
   "cell_type": "code",
   "execution_count": 91,
   "metadata": {},
   "outputs": [
    {
     "name": "stdout",
     "output_type": "stream",
     "text": [
      "203.01933448917916 21\n"
     ]
    }
   ],
   "source": [
    "enuc = mol.get_enuc()\n",
    "ndocc = mol.nelec[0]\n",
    "print(enuc, ndocc)"
   ]
  },
  {
   "cell_type": "code",
   "execution_count": 92,
   "metadata": {},
   "outputs": [
    {
     "name": "stdout",
     "output_type": "stream",
     "text": [
      "De matrix is niet orthonormaal.\n"
     ]
    }
   ],
   "source": [
    "# ==> Inspecting S for AO orthonormality <==\n",
    "def controleer_orthonormaliteit(matrix):\n",
    "    is_ortho = np.allclose(np.eye(len(matrix[0])), matrix)\n",
    "    if is_ortho:\n",
    "        print(\"De matrix is orthonormaal.\")\n",
    "    else:\n",
    "        print(\"De matrix is niet orthonormaal.\")\n",
    "controleer_orthonormaliteit(S)"
   ]
  },
  {
   "cell_type": "code",
   "execution_count": 93,
   "metadata": {},
   "outputs": [
    {
     "name": "stdout",
     "output_type": "stream",
     "text": [
      "De matrix is orthonormaal.\n"
     ]
    }
   ],
   "source": [
    "# ==> Construct AO orthogonalization matrix A <==\n",
    "from scipy.linalg import fractional_matrix_power\n",
    "A = fractional_matrix_power(S, -0.5)\n",
    "A = np.asarray(A)\n",
    "ASA = A@S@A\n",
    "\n",
    "# Check orthonormality\n",
    "controleer_orthonormaliteit(ASA)\n"
   ]
  },
  {
   "cell_type": "code",
   "execution_count": 94,
   "metadata": {},
   "outputs": [
    {
     "name": "stdout",
     "output_type": "stream",
     "text": [
      "[[ 1.05161681e+00 -2.63961502e-01  1.73851319e-01 ...  5.06437947e-04\n",
      "   8.34438602e-04  2.39235416e-03]\n",
      " [-2.63961502e-01  1.62463133e+00 -1.05463266e+00 ... -3.95740403e-03\n",
      "  -1.60496482e-03 -4.05175605e-02]\n",
      " [ 1.73851319e-01 -1.05463266e+00  1.22840846e+00 ...  2.26210092e-03\n",
      "   6.30035157e-03  3.40628298e-02]\n",
      " ...\n",
      " [ 5.06437947e-04 -3.95740403e-03  2.26210092e-03 ...  1.24946462e-02\n",
      "  -5.53348775e-04 -9.60171853e-04]\n",
      " [ 8.34438602e-04 -1.60496482e-03  6.30035157e-03 ... -5.53348775e-04\n",
      "   1.24946462e-02 -5.53347750e-04]\n",
      " [ 2.39235416e-03 -4.05175605e-02  3.40628298e-02 ... -9.60171853e-04\n",
      "  -5.53347750e-04  1.24946421e-02]]\n"
     ]
    }
   ],
   "source": [
    "# ==> Compute C & D matrices with CORE guess <==\n",
    "# Transformed Fock matrix\n",
    "F_p = A @ H_core @ A.T\n",
    "\n",
    "# Diagonalize F_p for eigenvalues & eigenvectors with NumPy\n",
    "epsilon, C_p = np.linalg.eigh(F_p)\n",
    "\n",
    "# Transform C_p back into AO basis\n",
    "C = A @ C_p\n",
    "# Grab occupied orbitals\n",
    "C_occ = C[:, :ndocc]\n",
    "\n",
    "# Build density matrix from occupied orbitals\n",
    "D = np.einsum('ik, kj -> ij',C_occ, C_occ.T, optimize=True)\n",
    "print(D)"
   ]
  },
  {
   "cell_type": "code",
   "execution_count": 95,
   "metadata": {},
   "outputs": [],
   "source": [
    "def apply_lagrange_multipliers(F, constraints, lambdas):\n",
    "    for mu in range(len(constraints)):\n",
    "        C_mu = constraints[mu]\n",
    "        F += lambdas[mu] * np.outer(C_mu, C_mu)\n",
    "    return F"
   ]
  },
  {
   "cell_type": "code",
   "execution_count": 96,
   "metadata": {},
   "outputs": [],
   "source": [
    "def normaliseer(eigenvectors):\n",
    "    eigenvectors = eigenvectors.T\n",
    "    for index, eigenvector in enumerate(eigenvectors):\n",
    "        eigenvectors[index] = eigenvector * (np.dot(eigenvector, eigenvector))**(-1/2)\n",
    "    return eigenvectors.T"
   ]
  },
  {
   "cell_type": "code",
   "execution_count": 97,
   "metadata": {},
   "outputs": [
    {
     "name": "stdout",
     "output_type": "stream",
     "text": [
      "==> Starting SCF Iterations <==\n",
      "\n",
      "1.0000000206382234\n",
      "1.0000000005783667\n",
      "1.000000011016953\n",
      "1.0000000038921084\n",
      "1.0000000059866623\n",
      "1.0000000047755484\n",
      "42.000000000000014\n",
      "\n",
      "SCF converged.\n",
      "Final RHF Energy: -227.89028017 [Eh]\n"
     ]
    }
   ],
   "source": [
    "\n",
    "# ==> SCF Iterations <==\n",
    "# Pre-iteration energy declarations\n",
    "SCF_E = 0.0\n",
    "E_old = 0.0\n",
    "constraints = [np.zeros(H_core.shape[0])]\n",
    "constraints[0][4] = 1.5\n",
    "lambdas = [0.1]\n",
    "print('==> Starting SCF Iterations <==\\n')\n",
    "\n",
    "# Begin Iterations\n",
    "for scf_iter in range(1, MAXITER + 1):\n",
    "\n",
    "    # Build Fock matrix\n",
    "    J = np.einsum('pqrs,rs->pq', eri, D, optimize=True)\n",
    "    K = np.einsum('prqs,rs->pq', eri, D, optimize=True)\n",
    "    \n",
    "    F = H_core + 2 * J - K\n",
    "    #F = apply_lagrange_multipliers(F, constraints, lambdas)\n",
    "    # Compute RHF energy\n",
    "    SCF_E = enuc + np.einsum('pq,pq->', (H_core + F), D, optimize=True)\n",
    "    SCF_E = enuc + np.sum( D * (H_core + F))\n",
    "    \n",
    "    \n",
    "    # SCF Converged?\n",
    "    if (abs(SCF_E - E_old) < E_conv):\n",
    "        break\n",
    "    E_old = SCF_E\n",
    "\n",
    "    # Compute new orbital guess\n",
    "    epsilon, C_p = np.linalg.eigh(A @ F @ A)\n",
    "    C = A @ C_p\n",
    "    C_occ = C[:, :ndocc]  \n",
    "    D= np.einsum('pi,iq->pq', C_occ, C_occ.T, optimize=True)\n",
    "\n",
    "    D_2 = np.einsum('pi,iq->pq', normaliseer(C)[:, :ndocc], normaliseer(C)[:, :ndocc].T, optimize=True)\n",
    "    print(D_2[4][4]*2)\n",
    "\n",
    "    # MAXITER exceeded?\n",
    "    if (scf_iter == MAXITER):\n",
    "        raise Exception(\"Maximum number of SCF iterations exceeded.\")\n",
    "# Post iterations\n",
    "print(sum(D_2.diagonal()*2))\n",
    "print('\\nSCF converged.')\n",
    "print('Final RHF Energy: %.8f [Eh]' % (SCF_E))"
   ]
  }
 ],
 "metadata": {
  "kernelspec": {
   "display_name": "Python 3",
   "language": "python",
   "name": "python3"
  },
  "language_info": {
   "codemirror_mode": {
    "name": "ipython",
    "version": 3
   },
   "file_extension": ".py",
   "mimetype": "text/x-python",
   "name": "python",
   "nbconvert_exporter": "python",
   "pygments_lexer": "ipython3",
   "version": "3.8.10"
  }
 },
 "nbformat": 4,
 "nbformat_minor": 2
}
