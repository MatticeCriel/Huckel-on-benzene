{
 "cells": [
  {
   "cell_type": "code",
   "execution_count": 1,
   "metadata": {},
   "outputs": [],
   "source": [
    "import numpy as np\n",
    "from sympy import symbols, Matrix, simplify, pprint\n",
    "import matplotlib.pyplot as plt\n",
    "from pyscf import gto, scf\n",
    "import sys\n",
    "sys.path.append('/workspaces/bachelor-project-bridging-profile-Mattice-Criel/projects/Project-MatticeCriel/Benzene/rhf')\n",
    "import plottingsystem as pts"
   ]
  },
  {
   "cell_type": "code",
   "execution_count": 2,
   "metadata": {},
   "outputs": [],
   "source": [
    "K = 1.75\n",
    "alpha_C = -11.4\n",
    "alpha_N = -11.4"
   ]
  },
  {
   "cell_type": "code",
   "execution_count": 3,
   "metadata": {},
   "outputs": [
    {
     "name": "stdout",
     "output_type": "stream",
     "text": [
      "[[0. 0. 0. 0.]\n",
      " [0. 0. 0. 0.]\n",
      " [0. 0. 0. 0.]\n",
      " [0. 0. 0. 0.]]\n"
     ]
    }
   ],
   "source": [
    "n = 4\n",
    "H = np.zeros((n, n))\n",
    "print(H)"
   ]
  },
  {
   "cell_type": "code",
   "execution_count": 4,
   "metadata": {},
   "outputs": [
    {
     "name": "stdout",
     "output_type": "stream",
     "text": [
      "[[-11.4   0.    0.    0. ]\n",
      " [  0.  -11.4   0.    0. ]\n",
      " [  0.    0.  -11.4   0. ]\n",
      " [  0.    0.    0.  -11.4]]\n"
     ]
    }
   ],
   "source": [
    "for i in range(n):\n",
    "    H[i, i] = alpha_C\n",
    "    if i == 0:\n",
    "        H[i, i] = alpha_N\n",
    "\n",
    "print(H)"
   ]
  },
  {
   "cell_type": "code",
   "execution_count": 5,
   "metadata": {},
   "outputs": [
    {
     "name": "stdout",
     "output_type": "stream",
     "text": [
      "[[ 0.732253  -0.6646198  0.       ]\n",
      " [ 0.732253   0.6646198  0.       ]\n",
      " [-0.732253   0.6646198 -0.       ]\n",
      " [-0.732253  -0.6646198 -0.       ]]\n",
      "[4, 9, 14, 19]\n"
     ]
    },
    {
     "name": "stdout",
     "output_type": "stream",
     "text": [
      "converged SCF energy = -151.727655705318\n"
     ]
    }
   ],
   "source": [
    "cyclobutadiene = \"\"\"  C    0.7322530   -0.6646198    0.0000000\n",
    "  C    0.7322530    0.6646198    0.0000000\n",
    "  C   -0.7322530    0.6646198   -0.0000000\n",
    "  C   -0.7322530   -0.6646198   -0.0000000\n",
    "  H    1.5215298   -1.4088346    0.0000000\n",
    "  H    1.5215298    1.4088346    0.0000000\n",
    "  H   -1.5215298    1.4088346   -0.0000000\n",
    "  H   -1.5215298   -1.4088346   -0.0000000\n",
    "  \"\"\"\n",
    "\n",
    "carbon_coordinates  = pts.taking_carbon_coordinates(cyclobutadiene)\n",
    "print(carbon_coordinates)\n",
    "\n",
    "\n",
    "benzene_molecule_with_H = gto.M(atom=cyclobutadiene, basis='sto-3g')#'ccpvdz''sto-6g'\n",
    "\n",
    "pz_indices = [i for i, label in enumerate(benzene_molecule_with_H.ao_labels()) if 'C 2pz' in label]\n",
    "print(pz_indices)\n",
    "\n",
    "rhf = scf.RHF(benzene_molecule_with_H)\n",
    "rhf_energy = rhf.kernel()"
   ]
  },
  {
   "cell_type": "code",
   "execution_count": 6,
   "metadata": {},
   "outputs": [
    {
     "name": "stdout",
     "output_type": "stream",
     "text": [
      "[[1.         0.2418438  0.06839926 0.18928155]\n",
      " [0.2418438  1.         0.18928155 0.06839926]\n",
      " [0.06839926 0.18928155 1.         0.2418438 ]\n",
      " [0.18928155 0.06839926 0.2418438  1.        ]]\n"
     ]
    }
   ],
   "source": [
    "S = rhf.get_ovlp()[[4, 9, 14, 19]][:, [4, 9, 14, 19]]\n",
    "print(S)"
   ]
  },
  {
   "cell_type": "code",
   "execution_count": 7,
   "metadata": {},
   "outputs": [
    {
     "name": "stdout",
     "output_type": "stream",
     "text": [
      "[[-11.4         -4.82478378  -1.36456514  -3.77616695]\n",
      " [ -4.82478378 -11.4         -3.77616695  -1.36456514]\n",
      " [ -1.36456514  -3.77616695 -11.4         -4.82478378]\n",
      " [ -3.77616695  -1.36456514  -4.82478378 -11.4       ]]\n"
     ]
    }
   ],
   "source": [
    "for i in range(n):\n",
    "    for j in range(n):\n",
    "        if i != j:\n",
    "            H[i, j] = H[j, i] = K*S[i,j]*(H[i,i]+H[j,j])/2\n",
    "print(H)"
   ]
  },
  {
   "cell_type": "code",
   "execution_count": 8,
   "metadata": {},
   "outputs": [
    {
     "name": "stdout",
     "output_type": "stream",
     "text": [
      "De matrix is niet orthonormaal.\n"
     ]
    }
   ],
   "source": [
    "# ==> Inspecting S for AO orthonormality <==\n",
    "def controleer_orthonormaliteit(matrix):\n",
    "    is_ortho = np.allclose(np.eye(len(matrix[0])), matrix)\n",
    "    if is_ortho:\n",
    "        print(\"De matrix is orthonormaal.\")\n",
    "    else:\n",
    "        print(\"De matrix is niet orthonormaal.\")\n",
    "controleer_orthonormaliteit(S)"
   ]
  },
  {
   "cell_type": "code",
   "execution_count": 9,
   "metadata": {},
   "outputs": [
    {
     "name": "stdout",
     "output_type": "stream",
     "text": [
      "De matrix is orthonormaal.\n"
     ]
    }
   ],
   "source": [
    "# ==> Construct AO orthogonalization matrix A <==\n",
    "from scipy.linalg import fractional_matrix_power\n",
    "A = fractional_matrix_power(S, -0.5)\n",
    "A = np.asarray(A)\n",
    "ASA = A@S@A\n",
    "\n",
    "# Check orthonormality\n",
    "controleer_orthonormaliteit(ASA)"
   ]
  },
  {
   "cell_type": "code",
   "execution_count": 10,
   "metadata": {},
   "outputs": [
    {
     "name": "stdout",
     "output_type": "stream",
     "text": [
      "[-14.24819293 -11.26241464 -10.22346354  -6.53347701] [[-0.5 -0.5  0.5  0.5]\n",
      " [-0.5 -0.5 -0.5 -0.5]\n",
      " [-0.5  0.5 -0.5  0.5]\n",
      " [-0.5  0.5  0.5 -0.5]]\n",
      "[[-0.408313   -0.50400691  0.53329321  0.62633537]\n",
      " [-0.408313   -0.50400691 -0.53329321 -0.62633537]\n",
      " [-0.408313    0.50400691 -0.53329321  0.62633537]\n",
      " [-0.408313    0.50400691  0.53329321 -0.62633537]]\n",
      "[-12.73800806  -8.93228992  -8.70164888  -4.14483179]\n",
      "[[-0.5 -0.5  0.5  0.5]\n",
      " [-0.5 -0.5 -0.5 -0.5]\n",
      " [-0.5  0.5 -0.5  0.5]\n",
      " [-0.5  0.5  0.5 -0.5]]\n"
     ]
    }
   ],
   "source": [
    "H_p = A @ H @ A \n",
    "epsilon, C_p = np.linalg.eigh(H_p)\n",
    "\n",
    "print(epsilon, C_p)\n",
    "C = A @ C_p\n",
    "print(C)\n",
    "eigenvalues = A@epsilon\n",
    "print(eigenvalues)\n",
    "for i in range(n):\n",
    "    C[:,i] = (np.dot(C[:,i], C[:,i]))**(-1/2) * C[:,i]\n",
    "\n",
    "print(C)"
   ]
  },
  {
   "cell_type": "code",
   "execution_count": 11,
   "metadata": {},
   "outputs": [
    {
     "ename": "TypeError",
     "evalue": "plot_MOs() missing 1 required positional argument: 'method'",
     "output_type": "error",
     "traceback": [
      "\u001b[0;31m---------------------------------------------------------------------------\u001b[0m",
      "\u001b[0;31mTypeError\u001b[0m                                 Traceback (most recent call last)",
      "Input \u001b[0;32mIn [11]\u001b[0m, in \u001b[0;36m<cell line: 1>\u001b[0;34m()\u001b[0m\n\u001b[0;32m----> 1\u001b[0m \u001b[43mpts\u001b[49m\u001b[38;5;241;43m.\u001b[39;49m\u001b[43mplot_MOs\u001b[49m\u001b[43m(\u001b[49m\u001b[43meigenvalues\u001b[49m\u001b[43m,\u001b[49m\u001b[43m \u001b[49m\u001b[43mC\u001b[49m\u001b[43m,\u001b[49m\u001b[43m \u001b[49m\u001b[43mcarbon_coordinates\u001b[49m\u001b[43m,\u001b[49m\u001b[43m \u001b[49m\u001b[38;5;124;43m'\u001b[39;49m\u001b[38;5;124;43mCyclobutadiene\u001b[39;49m\u001b[38;5;124;43m'\u001b[39;49m\u001b[43m,\u001b[49m\u001b[43m \u001b[49m\u001b[38;5;124;43m'\u001b[39;49m\u001b[38;5;124;43mExtended Hückel Theory\u001b[39;49m\u001b[38;5;124;43m'\u001b[39;49m\u001b[43m)\u001b[49m\n",
      "\u001b[0;31mTypeError\u001b[0m: plot_MOs() missing 1 required positional argument: 'method'"
     ]
    }
   ],
   "source": [
    "pts.plot_MOs(eigenvalues, C, carbon_coordinates, 'Cyclobutadiene', 'Extended Hückel Theory')"
   ]
  }
 ],
 "metadata": {
  "kernelspec": {
   "display_name": "Python 3",
   "language": "python",
   "name": "python3"
  },
  "language_info": {
   "codemirror_mode": {
    "name": "ipython",
    "version": 3
   },
   "file_extension": ".py",
   "mimetype": "text/x-python",
   "name": "python",
   "nbconvert_exporter": "python",
   "pygments_lexer": "ipython3",
   "version": "3.8.10"
  }
 },
 "nbformat": 4,
 "nbformat_minor": 2
}
