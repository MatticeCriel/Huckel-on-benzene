{
 "cells": [
  {
   "cell_type": "code",
   "execution_count": 174,
   "metadata": {},
   "outputs": [],
   "source": [
    "import numpy as np\n",
    "from sympy import symbols, Matrix, simplify\n",
    "import matplotlib.pyplot as plt\n",
    "from pyscf import gto, scf\n",
    "from scipy.linalg import fractional_matrix_power\n",
    "import sys\n",
    "sys.path.append('/workspaces/bachelor-project-bridging-profile-Mattice-Criel/projects/Project-MatticeCriel/Benzene/rhf')\n",
    "import plottingsystem as pts\n",
    "import sys\n",
    "sys.path.append('/workspaces/bachelor-project-bridging-profile-Mattice-Criel/projects/Project-MatticeCriel/Benzene/Huckel')\n",
    "from class_huckel import huckel"
   ]
  },
  {
   "cell_type": "code",
   "execution_count": 175,
   "metadata": {},
   "outputs": [
    {
     "name": "stdout",
     "output_type": "stream",
     "text": [
      "[[ 1.2116068  0.6995215]\n",
      " [ 1.2116068 -0.6995215]\n",
      " [-0.        -1.399043 ]\n",
      " [-1.2116068 -0.6995215]\n",
      " [-1.2116068  0.6995215]\n",
      " [ 0.         1.399043 ]]\n"
     ]
    }
   ],
   "source": [
    "benzene_molecule = '''\n",
    "  C    1.2116068    0.6995215    0.0000000\n",
    "  C    1.2116068   -0.6995215    0.0000000\n",
    "  C   -0.0000000   -1.3990430   -0.0000000\n",
    "  C   -1.2116068   -0.6995215   -0.0000000\n",
    "  C   -1.2116068    0.6995215   -0.0000000\n",
    "  C    0.0000000    1.3990430    0.0000000\n",
    "  H    2.1489398    1.2406910    0.0000000\n",
    "  H    2.1489398   -1.2406910    0.0000000\n",
    "  H   -0.0000000   -2.4813820   -0.0000000\n",
    "  H   -2.1489398   -1.2406910   -0.0000000\n",
    "  H   -2.1489398    1.2406910   -0.0000000\n",
    "  H    0.0000000    2.4813820    0.0000000\n",
    "'''\n",
    "extra_bounds = [(0,5)]\n",
    "coordinates = pts.taking_x_and_y_coordinate(pts.taking_carbon_coordinates(benzene_molecule))\n",
    "print(coordinates)\n"
   ]
  },
  {
   "cell_type": "code",
   "execution_count": 176,
   "metadata": {},
   "outputs": [
    {
     "name": "stdout",
     "output_type": "stream",
     "text": [
      "[[ 0. -3.  0.  0.  0. -3.]\n",
      " [-3.  0. -3.  0.  0.  0.]\n",
      " [ 0. -3.  0. -3.  0.  0.]\n",
      " [ 0.  0. -3.  0. -3.  0.]\n",
      " [ 0.  0.  0. -3.  0. -3.]\n",
      " [-3.  0.  0.  0. -3.  0.]]\n"
     ]
    }
   ],
   "source": [
    "benzene = huckel(6, 0, -3)\n",
    "benzene.create_matrix()\n",
    "benzene.huckel_matrix[0][0] = -0\n",
    "H = benzene.huckel_matrix\n",
    "print(H)"
   ]
  },
  {
   "cell_type": "code",
   "execution_count": 177,
   "metadata": {},
   "outputs": [
    {
     "name": "stdout",
     "output_type": "stream",
     "text": [
      "[-6. -3. -3.  3.  3.  6.]\n",
      "[[ 4.08248097e-01  4.08248097e-01  4.08248097e-01  4.08248097e-01\n",
      "   4.08248097e-01  4.08248097e-01]\n",
      " [-5.77350406e-01 -2.88675203e-01  2.88675203e-01  5.77350406e-01\n",
      "   2.88675203e-01 -2.88675203e-01]\n",
      " [ 0.00000000e+00 -5.00000119e-01 -5.00000119e-01 -4.35210020e-18\n",
      "   5.00000119e-01  5.00000119e-01]]\n"
     ]
    }
   ],
   "source": [
    "benzene.solve_huckel_matrix()\n",
    "eigenvectors = benzene.eigenvectors.T\n",
    "eigenvalues = benzene.eigenvalues\n",
    "print(eigenvalues)\n",
    "print(eigenvectors[:3])"
   ]
  },
  {
   "cell_type": "code",
   "execution_count": 178,
   "metadata": {},
   "outputs": [
    {
     "name": "stdout",
     "output_type": "stream",
     "text": [
      "[[1. 0. 0. 0. 0. 0.]\n",
      " [0. 0. 0. 0. 0. 0.]\n",
      " [0. 0. 0. 0. 0. 0.]\n",
      " [0. 0. 0. 0. 0. 0.]\n",
      " [0. 0. 0. 0. 0. 0.]\n",
      " [0. 0. 0. 0. 0. 0.]]\n",
      "[[ 4.08248097e-01  4.08248097e-01  4.08248097e-01  4.08248097e-01\n",
      "   4.08248097e-01  4.08248097e-01]\n",
      " [-5.77350406e-01 -2.88675203e-01  2.88675203e-01  5.77350406e-01\n",
      "   2.88675203e-01 -2.88675203e-01]\n",
      " [ 0.00000000e+00 -5.00000119e-01 -5.00000119e-01 -4.35210020e-18\n",
      "   5.00000119e-01  5.00000119e-01]]\n",
      "[[ 0.166667 -0.235702  0.      ]\n",
      " [-0.235702  0.333333  0.      ]\n",
      " [ 0.        0.        0.      ]]\n"
     ]
    }
   ],
   "source": [
    "mat = np.zeros((6,6))\n",
    "mat[0][0] = 1\n",
    "print(mat)\n",
    "print(eigenvectors[:3])\n",
    "density = eigenvectors[:3] @mat@ eigenvectors[:3].T\n",
    "print(density.round(6))\n"
   ]
  },
  {
   "cell_type": "code",
   "execution_count": 179,
   "metadata": {},
   "outputs": [
    {
     "name": "stdout",
     "output_type": "stream",
     "text": [
      "[0.  0.  0.5] [[-0.81649677  0.         -0.57735   ]\n",
      " [-0.57735     0.          0.81649677]\n",
      " [-0.          1.          0.        ]]\n"
     ]
    }
   ],
   "source": [
    "eigval, eigvec = np.linalg.eigh(density)\n",
    "print(eigval, eigvec)\n"
   ]
  },
  {
   "cell_type": "code",
   "execution_count": 180,
   "metadata": {},
   "outputs": [
    {
     "name": "stdout",
     "output_type": "stream",
     "text": [
      "1.3862943611198906\n",
      "0.6931471805599453\n"
     ]
    }
   ],
   "source": [
    "S_ohm = 0\n",
    "for eigenvalue in eigval:\n",
    "    if (eigenvalue != 0):\n",
    "        S_ohm -= (eigenvalue*np.log(eigenvalue) + (1-eigenvalue)*np.log(1-eigenvalue))\n",
    "print(2*S_ohm)\n",
    "\n",
    "print(np.log(2))"
   ]
  },
  {
   "cell_type": "code",
   "execution_count": 181,
   "metadata": {},
   "outputs": [
    {
     "name": "stdout",
     "output_type": "stream",
     "text": [
      "[[1. 0. 0. 0. 0. 0.]\n",
      " [0. 1. 0. 0. 0. 0.]\n",
      " [0. 0. 0. 0. 0. 0.]\n",
      " [0. 0. 0. 0. 0. 0.]\n",
      " [0. 0. 0. 0. 0. 0.]\n",
      " [0. 0. 0. 0. 0. 0.]]\n",
      "[[ 4.08248097e-01  4.08248097e-01  4.08248097e-01  4.08248097e-01\n",
      "   4.08248097e-01  4.08248097e-01]\n",
      " [-5.77350406e-01 -2.88675203e-01  2.88675203e-01  5.77350406e-01\n",
      "   2.88675203e-01 -2.88675203e-01]\n",
      " [ 0.00000000e+00 -5.00000119e-01 -5.00000119e-01 -4.35210020e-18\n",
      "   5.00000119e-01  5.00000119e-01]]\n"
     ]
    },
    {
     "data": {
      "text/plain": [
       "array([[ 0.16666651, -0.2357022 ,  0.        ],\n",
       "       [-0.2357022 ,  0.33333349,  0.        ],\n",
       "       [ 0.        ,  0.        ,  0.        ]])"
      ]
     },
     "execution_count": 181,
     "metadata": {},
     "output_type": "execute_result"
    }
   ],
   "source": [
    "mat1 = np.zeros((6,6))\n",
    "mat2 = np.zeros((6,6))\n",
    "mat1[0][0] = 1\n",
    "mat2[1][1]= 1\n",
    "\n",
    "mat1_2 = mat1 + mat2\n",
    "print(mat1_2)\n",
    "print(eigenvectors[:3])\n",
    "eigenvectors[:3] @mat1@ eigenvectors[:3].T"
   ]
  },
  {
   "cell_type": "code",
   "execution_count": 182,
   "metadata": {},
   "outputs": [
    {
     "name": "stdout",
     "output_type": "stream",
     "text": [
      "[1.3862943611198906, 1.3862943611198906, 1.3862943611198906, 1.3862943611198906, 1.3862943611198906, 1.3862943611198906]\n",
      "[1.8022469813808355, 2.772588722239781, 2.5460557489820106, 2.772588722239781, 1.8022469813808355, 1.8022469813808355, 2.772588722239781, 2.5460557489820106, 2.772588722239781, 1.8022469813808355, 2.772588722239781, 2.5460557489820106, 1.8022469813808355, 2.772588722239781, 1.8022469813808355]\n",
      "0.9703417408589456\n",
      "0.0\n",
      "0.22653297325777055\n",
      "0.0\n",
      "0.9703417408589456\n",
      "0.0\n"
     ]
    }
   ],
   "source": [
    "occ_orbitals = eigenvectors[:3]\n",
    "S_ohm_1_atom= []\n",
    "S_ohm_2_atoms = []\n",
    "for i in range(6):\n",
    "    atom_i = np.zeros((6,6))\n",
    "    atom_i[i][i] = 1\n",
    "    eigvals_i = np.linalg.eigvalsh(occ_orbitals @ atom_i @ occ_orbitals.T).round(6)\n",
    "    S_ohm_i = 0\n",
    "    for eigenvalue in eigvals_i:\n",
    "        if (eigenvalue != 0): \n",
    "            S_ohm_i -= (eigenvalue*np.log(eigenvalue) + (1-eigenvalue)*np.log(1-eigenvalue))\n",
    "    S_ohm_1_atom.append(2*S_ohm_i)\n",
    "    for j in range(i+1,6):\n",
    "        atom_j = np.zeros((6,6))\n",
    "        atom_j[j][j] = 1    \n",
    "        atom_i_j = atom_i + atom_j\n",
    "        eigvals_i_j = np.linalg.eigvalsh(occ_orbitals @ atom_i_j @ occ_orbitals.T).round(6)\n",
    "        S_ohm_i_j = 0\n",
    "        for eigenvalue in eigvals_i_j:\n",
    "            if (eigenvalue != 0): \n",
    "                S_ohm_i_j -= (eigenvalue*np.log(eigenvalue) + (1-eigenvalue)*np.log(1-eigenvalue))\n",
    "        S_ohm_2_atoms.append(2*S_ohm_i_j)\n",
    "print(S_ohm_1_atom)\n",
    "print(S_ohm_2_atoms)\n",
    "I_1_2 = S_ohm_1_atom[0] + S_ohm_1_atom[1] - S_ohm_2_atoms[0]\n",
    "print(I_1_2)\n",
    "I_1_3 = S_ohm_1_atom[0] + S_ohm_1_atom[2] - S_ohm_2_atoms[1]\n",
    "print(I_1_3)\n",
    "I_1_4 = S_ohm_1_atom[0] + S_ohm_1_atom[3] - S_ohm_2_atoms[2]\n",
    "print(I_1_4)\n",
    "I_1_5 = S_ohm_1_atom[0] + S_ohm_1_atom[4] - S_ohm_2_atoms[3]\n",
    "print(I_1_5)\n",
    "I_1_6 = S_ohm_1_atom[0] + S_ohm_1_atom[5] - S_ohm_2_atoms[4]\n",
    "print(I_1_6)\n",
    "# Dit ziet er goed uit volgens mij. \n",
    "I_5_3 = S_ohm_1_atom[4] + S_ohm_1_atom[2] - S_ohm_2_atoms[5+4+2-1]\n",
    "print(I_5_3)"
   ]
  }
 ],
 "metadata": {
  "kernelspec": {
   "display_name": "Python 3",
   "language": "python",
   "name": "python3"
  },
  "language_info": {
   "codemirror_mode": {
    "name": "ipython",
    "version": 3
   },
   "file_extension": ".py",
   "mimetype": "text/x-python",
   "name": "python",
   "nbconvert_exporter": "python",
   "pygments_lexer": "ipython3",
   "version": "3.8.10"
  }
 },
 "nbformat": 4,
 "nbformat_minor": 2
}
