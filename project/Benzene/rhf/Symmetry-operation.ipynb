{
 "cells": [
  {
   "cell_type": "code",
   "execution_count": 28,
   "metadata": {},
   "outputs": [
    {
     "name": "stdout",
     "output_type": "stream",
     "text": [
      "[[ 0.  -0.5  0.   0.   0.  -0.5]\n",
      " [-0.5  0.  -0.5  0.   0.   0. ]\n",
      " [ 0.  -0.5  0.  -0.5  0.   0. ]\n",
      " [ 0.   0.  -0.5  0.  -0.5  0. ]\n",
      " [ 0.   0.   0.  -0.5  0.  -0.5]\n",
      " [-0.5  0.   0.   0.  -0.5  0. ]]\n"
     ]
    }
   ],
   "source": [
    "import numpy as np\n",
    "import sys\n",
    "sys.path.append('/workspaces/bachelor-project-bridging-profile-Mattice-Criel/projects/Project-MatticeCriel/Benzene/Huckel')\n",
    "from class_huckel import huckel\n",
    "Benzene = huckel(6, -0, -0.5)\n",
    "Benzene.create_matrix()\n",
    "\n",
    "huc_mat = Benzene.huckel_matrix\n",
    "print(huc_mat)"
   ]
  },
  {
   "cell_type": "code",
   "execution_count": 29,
   "metadata": {},
   "outputs": [
    {
     "name": "stdout",
     "output_type": "stream",
     "text": [
      "[[-1.  0.  0.  0.  0.  0.]\n",
      " [ 0. -1.  0.  0.  0.  0.]\n",
      " [ 0.  0. -1.  0.  0.  0.]\n",
      " [ 0.  0.  0. -1.  0.  0.]\n",
      " [ 0.  0.  0.  0. -1.  0.]\n",
      " [ 0.  0.  0.  0.  0. -1.]]\n"
     ]
    }
   ],
   "source": [
    "sigma_h = huckel(6, -1, 0, 'lin')\n",
    "sigma_h.create_matrix()\n",
    "\n",
    "sigma_h_matrix = sigma_h.huckel_matrix\n",
    "print(sigma_h_matrix)"
   ]
  },
  {
   "cell_type": "code",
   "execution_count": 30,
   "metadata": {},
   "outputs": [
    {
     "name": "stdout",
     "output_type": "stream",
     "text": [
      "[2 1 1 1 1 1]\n"
     ]
    }
   ],
   "source": [
    "vector = np.array([2,1,1,1,1,1])\n",
    "\n",
    "print(vector)"
   ]
  },
  {
   "cell_type": "code",
   "execution_count": 31,
   "metadata": {},
   "outputs": [
    {
     "name": "stdout",
     "output_type": "stream",
     "text": [
      "[0. 0. 0. 0. 0. 0.]\n"
     ]
    }
   ],
   "source": [
    "print((huc_mat @ sigma_h_matrix @ vector) - (sigma_h_matrix @ huc_mat @ vector))"
   ]
  }
 ],
 "metadata": {
  "kernelspec": {
   "display_name": "Python 3",
   "language": "python",
   "name": "python3"
  },
  "language_info": {
   "codemirror_mode": {
    "name": "ipython",
    "version": 3
   },
   "file_extension": ".py",
   "mimetype": "text/x-python",
   "name": "python",
   "nbconvert_exporter": "python",
   "pygments_lexer": "ipython3",
   "version": "3.8.10"
  }
 },
 "nbformat": 4,
 "nbformat_minor": 2
}
