{
 "cells": [
  {
   "cell_type": "code",
   "execution_count": 12,
   "metadata": {},
   "outputs": [
    {
     "name": "stdout",
     "output_type": "stream",
     "text": [
      "[[-1.4948079  0.533241 ]\n",
      " [-0.7487961 -0.5772294]\n",
      " [ 0.7292193 -0.5544554]\n",
      " [ 1.3840783  0.550139 ]]\n"
     ]
    }
   ],
   "source": [
    "import numpy as np\n",
    "from sympy import symbols, Matrix, simplify, pprint\n",
    "import matplotlib.pyplot as plt\n",
    "from pyscf import gto, scf\n",
    "import sys\n",
    "sys.path.append('/workspaces/bachelor-project-bridging-profile-Mattice-Criel/projects/Project-MatticeCriel/Benzene/rhf')\n",
    "\n",
    "import plottingsystem as pts\n",
    "molecule = \"\"\"\n",
    "  C    0.0000000    0.5332410   -1.4948079\n",
    "  C    0.0000000   -0.5772294   -0.7487961\n",
    "  C    0.0000000   -0.5544554    0.7292193\n",
    "  N    0.0000000    0.5501390    1.3840783\n",
    "  H    0.0000000    0.4565477   -2.5773265\n",
    "  H    0.0000000    1.5210246   -1.0445631\n",
    "  H    0.0000000   -1.5419479   -1.2467417\n",
    "  H    0.0000000   -1.4983417    1.2666090\n",
    "  H    0.0000000    0.5490508    2.4143034\n",
    "\"\"\"\n",
    "\n",
    "# Converteer de coördinaten naar een NumPy-array\n",
    "carbon_coordinates = pts.taking_carbon_coordinates(molecule)\n",
    "coordinates = pts.taking_x_and_y_coordinate(carbon_coordinates)\n",
    "print(coordinates)"
   ]
  },
  {
   "cell_type": "code",
   "execution_count": 13,
   "metadata": {},
   "outputs": [
    {
     "name": "stdout",
     "output_type": "stream",
     "text": [
      "[2, 7, 12, 17]\n",
      "converged SCF energy = -168.761735735589\n"
     ]
    }
   ],
   "source": [
    "_molecule = gto.M(atom=molecule, basis='sto-3g')#'sto-6g''ccpvdz'\n",
    "\n",
    "pz_indices = pts.taking_indices(_molecule, ['C 2px', 'N 2px'])\n",
    "print(pz_indices)\n",
    "hf = scf.RHF(_molecule)\n",
    "hf_energy = hf.kernel()"
   ]
  },
  {
   "cell_type": "code",
   "execution_count": 14,
   "metadata": {},
   "outputs": [],
   "source": [
    "mo_coeff = hf.mo_coeff.round(6)\n",
    "mo_coeff = pts.normaliseer(mo_coeff)"
   ]
  },
  {
   "cell_type": "code",
   "execution_count": 15,
   "metadata": {},
   "outputs": [
    {
     "name": "stdout",
     "output_type": "stream",
     "text": [
      "[[ 0.31447177  0.59890343  0.5686637  -0.43734678]\n",
      " [ 0.45721478  0.53649581 -0.38772132  0.58703437]\n",
      " [ 0.62812517 -0.31582132 -0.45889111 -0.55579143]\n",
      " [ 0.54545479 -0.50372991  0.5618832   0.3939725 ]]\n"
     ]
    }
   ],
   "source": [
    "mo_eigenvalues = hf.mo_energy[[12,14, 15, 16]]\n",
    "pz_orbitals = mo_coeff[pz_indices][:,[12,14, 15, 16]]\n",
    "print(pz_orbitals)\n"
   ]
  },
  {
   "cell_type": "code",
   "execution_count": 16,
   "metadata": {},
   "outputs": [
    {
     "name": "stdout",
     "output_type": "stream",
     "text": [
      "[0.91515564 0.99374621 0.98856866 1.10252949]\n"
     ]
    }
   ],
   "source": [
    "D = pts.making_D(pz_orbitals, 4)\n",
    "print(np.diag(D))\n"
   ]
  },
  {
   "cell_type": "code",
   "execution_count": null,
   "metadata": {},
   "outputs": [],
   "source": []
  },
  {
   "cell_type": "markdown",
   "metadata": {},
   "source": [
    "1. [0.95906023 0.95984406 0.97545552 0.91566985 0.9777383  1.21223204]\n",
    "2. [0.91859922 0.92992355 0.88367969 1.0411525  2.22664503]\n",
    "3. [0.95152746 0.97562361 0.90287582 0.98859228 0.97030993 1.21107089]\n",
    "4. [0.97713185 0.92624311 1.00932689 0.89769242 2.18960573]\n",
    "5. [0.94751994 1.00490172 1.06052844 0.9870499 ]\n",
    "6. [0.91515564 0.99374621 0.98856866 1.10252949]\n"
   ]
  },
  {
   "cell_type": "markdown",
   "metadata": {},
   "source": []
  }
 ],
 "metadata": {
  "kernelspec": {
   "display_name": "Python 3",
   "language": "python",
   "name": "python3"
  },
  "language_info": {
   "codemirror_mode": {
    "name": "ipython",
    "version": 3
   },
   "file_extension": ".py",
   "mimetype": "text/x-python",
   "name": "python",
   "nbconvert_exporter": "python",
   "pygments_lexer": "ipython3",
   "version": "3.8.10"
  }
 },
 "nbformat": 4,
 "nbformat_minor": 2
}
